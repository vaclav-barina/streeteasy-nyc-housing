{
 "cells": [
  {
   "attachments": {},
   "cell_type": "markdown",
   "metadata": {},
   "source": [
    "# Data Wrangling\n",
    "Following notebook loops through a folder and reformats the Streeteasy data in a form usable by Python's Dash library."
   ]
  },
  {
   "attachments": {},
   "cell_type": "markdown",
   "metadata": {},
   "source": [
    "## Melting Original Data\n",
    "Original data has time series data where several columns contain the month that a specific value was captured. I need to convert the table in a dataframe where each observation has its own row. The melt function in Pandas automates this process "
   ]
  },
  {
   "cell_type": "code",
   "execution_count": 2,
   "metadata": {},
   "outputs": [],
   "source": [
    "import os\n",
    "import pandas as pd\n",
    "\n",
    "# Define directory with raw data and output directory for melted data\n",
    "directory = r\"C:\\Users\\Vaclav Barina\\Documents\\3. Study\\2. Data Science\\1. Fun Projects\\2023_Streeteasy Housing Data\\Cleaned Data\\Unmelted\"\n",
    "output_directory = r\"C:\\Users\\Vaclav Barina\\Documents\\3. Study\\2. Data Science\\1. Fun Projects\\2023_Streeteasy Housing Data\\Cleaned Data\\Melted\"\n",
    "\n",
    "# Loop over each file in the directory\n",
    "for filename in os.listdir(directory):\n",
    "    if filename.endswith(\".csv\"):\n",
    "        df = pd.read_csv(os.path.join(directory, filename)) # Load file\n",
    "        \n",
    "        # Melt the DataFrame to convert the monthly columns into rows\n",
    "        melted = pd.melt(df, id_vars=['areaName', 'Borough', 'areaType'], var_name='date', value_name='value')\n",
    "        \n",
    "        # Rename the 'value' column to the name of the current file\n",
    "        file_name_without_extension = os.path.splitext(filename)[0]\n",
    "        melted = melted.rename(columns={'value': file_name_without_extension})\n",
    "        \n",
    "        # Export the melted DataFrame to a CSV file in the output directory\n",
    "        output_filename = os.path.splitext(filename)[0] + \"_melted.csv\"\n",
    "        output_filepath = os.path.join(output_directory, output_filename)\n",
    "        melted.to_csv(output_filepath, index=False)"
   ]
  },
  {
   "attachments": {},
   "cell_type": "markdown",
   "metadata": {},
   "source": [
    "## Combining Files\n",
    "\n",
    "After melting all the data, I need to combine the melted dataframes into one giant dataframe to create the dashboard. The code below creates a new dataframe that can then be fed to the dashboard for visualization"
   ]
  },
  {
   "cell_type": "code",
   "execution_count": 8,
   "metadata": {},
   "outputs": [],
   "source": [
    "import os\n",
    "import pandas as pd\n",
    "\n",
    "# Define the directory where your files are located\n",
    "directory = r\"C:\\Users\\Vaclav Barina\\Documents\\3. Study\\2. Data Science\\1. Fun Projects\\2023_Streeteasy Housing Data\\Cleaned Data\\Melted\"\n",
    "\n",
    "# Create an empty DataFrame to store the merged data\n",
    "merged_df = pd.DataFrame()\n",
    "\n",
    "# Loop over each file in the directory\n",
    "for filename in os.listdir(directory):\n",
    "    if filename.endswith(\".csv\"):\n",
    "        # Load the CSV file into a DataFrame\n",
    "        df = pd.read_csv(os.path.join(directory, filename))\n",
    "        \n",
    "        # Rename the monthly column to the name of the current file\n",
    "        file_name_without_extension = os.path.splitext(filename)[0]\n",
    "        df = df.rename(columns={'value': file_name_without_extension})\n",
    "        \n",
    "        # Merge the DataFrame into the merged data\n",
    "        if merged_df.empty:\n",
    "            merged_df = df\n",
    "        else:\n",
    "            merged_df = pd.merge(merged_df, df, on=['areaName', 'Borough', 'areaType', 'date'])\n",
    "        \n",
    "# Save the merged data to a CSV file in a different directory\n",
    "merged_directory = r\"C:\\Users\\Vaclav Barina\\Documents\\3. Study\\2. Data Science\\1. Fun Projects\\2023_Streeteasy Housing Data\\Cleaned Data\\Melted\\Melted Master\"\n",
    "if not os.path.exists(merged_directory):\n",
    "    os.makedirs(merged_directory)\n",
    "merged_file = os.path.join(merged_directory, \"merged_data.csv\")\n",
    "merged_df.to_csv(merged_file, index=False)\n"
   ]
  }
 ],
 "metadata": {
  "kernelspec": {
   "display_name": "base",
   "language": "python",
   "name": "python3"
  },
  "language_info": {
   "codemirror_mode": {
    "name": "ipython",
    "version": 3
   },
   "file_extension": ".py",
   "mimetype": "text/x-python",
   "name": "python",
   "nbconvert_exporter": "python",
   "pygments_lexer": "ipython3",
   "version": "3.10.9"
  },
  "orig_nbformat": 4
 },
 "nbformat": 4,
 "nbformat_minor": 2
}
